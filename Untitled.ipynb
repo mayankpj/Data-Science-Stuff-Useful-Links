{
 "cells": [
  {
   "cell_type": "code",
   "execution_count": 2,
   "metadata": {
    "collapsed": false
   },
   "outputs": [],
   "source": [
    "import pandas as pd\n",
    "import numpy as np\n",
    "import datetime as dt\n",
    "import gc\n",
    "import qgrid\n",
    "import xgboost"
   ]
  },
  {
   "cell_type": "code",
   "execution_count": 7,
   "metadata": {
    "collapsed": false
   },
   "outputs": [
    {
     "data": {
      "text/plain": [
       "'0048hrs_26Aug2015'"
      ]
     },
     "execution_count": 7,
     "metadata": {},
     "output_type": "execute_result"
    }
   ],
   "source": [
    "dt.datetime.now().strftime('%H%Mhrs_%d%b%Y')"
   ]
  },
  {
   "cell_type": "code",
   "execution_count": 10,
   "metadata": {
    "collapsed": false
   },
   "outputs": [
    {
     "name": "stdout",
     "output_type": "stream",
     "text": [
      "[0 1 2 3 4]\n"
     ]
    },
    {
     "data": {
      "text/plain": [
       "array([ 0.        ,  1.        ,  1.25992105,  1.44224957,  1.58740105])"
      ]
     },
     "execution_count": 10,
     "metadata": {},
     "output_type": "execute_result"
    }
   ],
   "source": [
    "a = np.arange(5)\n",
    "print(a)\n",
    "np.power(a,1/3.)"
   ]
  },
  {
   "cell_type": "code",
   "execution_count": 1,
   "metadata": {
    "collapsed": false
   },
   "outputs": [
    {
     "ename": "NameError",
     "evalue": "name 'qgrid' is not defined",
     "output_type": "error",
     "traceback": [
      "\u001b[1;31m---------------------------------------------------------------------------\u001b[0m",
      "\u001b[1;31mNameError\u001b[0m                                 Traceback (most recent call last)",
      "\u001b[1;32m<ipython-input-1-57694f0791f6>\u001b[0m in \u001b[0;36m<module>\u001b[1;34m()\u001b[0m\n\u001b[1;32m----> 1\u001b[1;33m \u001b[0mqgrid\u001b[0m\u001b[1;33m.\u001b[0m\u001b[0mnbinstall\u001b[0m\u001b[1;33m(\u001b[0m\u001b[1;33m)\u001b[0m  \u001b[1;31m# copies javascript dependencies to your /nbextensions folder\u001b[0m\u001b[1;33m\u001b[0m\u001b[0m\n\u001b[0m",
      "\u001b[1;31mNameError\u001b[0m: name 'qgrid' is not defined"
     ]
    }
   ],
   "source": [
    "qgrid.nbinstall()  # copies javascript dependencies to your /nbextensions folder "
   ]
  },
  {
   "cell_type": "code",
   "execution_count": 3,
   "metadata": {
    "collapsed": true
   },
   "outputs": [],
   "source": [
    "an = np.array(range(5))"
   ]
  },
  {
   "cell_type": "code",
   "execution_count": 4,
   "metadata": {
    "collapsed": false
   },
   "outputs": [
    {
     "data": {
      "text/plain": [
       "array([0, 1, 2, 3, 4])"
      ]
     },
     "execution_count": 4,
     "metadata": {},
     "output_type": "execute_result"
    }
   ],
   "source": [
    "an"
   ]
  },
  {
   "cell_type": "code",
   "execution_count": 6,
   "metadata": {
    "collapsed": false
   },
   "outputs": [
    {
     "data": {
      "text/html": [
       "<div>\n",
       "<table border=\"1\" class=\"dataframe\">\n",
       "  <thead>\n",
       "    <tr style=\"text-align: right;\">\n",
       "      <th></th>\n",
       "      <th>a</th>\n",
       "    </tr>\n",
       "  </thead>\n",
       "  <tbody>\n",
       "    <tr>\n",
       "      <th>0</th>\n",
       "      <td>0</td>\n",
       "    </tr>\n",
       "    <tr>\n",
       "      <th>1</th>\n",
       "      <td>1</td>\n",
       "    </tr>\n",
       "    <tr>\n",
       "      <th>2</th>\n",
       "      <td>2</td>\n",
       "    </tr>\n",
       "    <tr>\n",
       "      <th>3</th>\n",
       "      <td>3</td>\n",
       "    </tr>\n",
       "    <tr>\n",
       "      <th>4</th>\n",
       "      <td>4</td>\n",
       "    </tr>\n",
       "  </tbody>\n",
       "</table>\n",
       "</div>"
      ],
      "text/plain": [
       "   a\n",
       "0  0\n",
       "1  1\n",
       "2  2\n",
       "3  3\n",
       "4  4"
      ]
     },
     "execution_count": 6,
     "metadata": {},
     "output_type": "execute_result"
    }
   ],
   "source": [
    "pd.DataFrame({\"a\":an,})"
   ]
  },
  {
   "cell_type": "code",
   "execution_count": 15,
   "metadata": {
    "collapsed": true
   },
   "outputs": [],
   "source": [
    "a = pd.DataFrame({'testCol':['a','b','c'],'val1':[3,3,3],'qty1':[1,0,2],'val2':[2,2,2],'qty2':[np.nan,4,1],\n",
    "                 'binary':['No','Yes','Yes'],'binary2':['No','Yes','No'],'date':['02122011', '02122014', '31032011']})"
   ]
  },
  {
   "cell_type": "code",
   "execution_count": 16,
   "metadata": {
    "collapsed": false
   },
   "outputs": [
    {
     "data": {
      "text/html": [
       "<script type=\"text/javascript\">\n",
       "if ($(\"#dg-css\").length == 0){\n",
       "    $(\"head\").append([\n",
       "        \"<link href='https://cdn.rawgit.com/quantopian/qgrid/6988858671b6f80c7d1987e07ebff3dc810d20ce/qgrid/qgridjs//lib/slick.grid.css' rel='stylesheet'>\",\n",
       "        \"<link href='https://cdn.rawgit.com/quantopian/qgrid/6988858671b6f80c7d1987e07ebff3dc810d20ce/qgrid/qgridjs//lib/slick-default-theme.css' rel='stylesheet'>\",\n",
       "        \"<link href='http://cdnjs.cloudflare.com/ajax/libs/jqueryui/1.10.4/css/jquery-ui.min.css' rel='stylesheet'>\",\n",
       "        \"<link id='dg-css' href='https://cdn.rawgit.com/quantopian/qgrid/6988858671b6f80c7d1987e07ebff3dc810d20ce/qgrid/qgridjs//qgrid.css' rel='stylesheet'>\"\n",
       "    ]);\n",
       "}\n",
       "</script>\n",
       "<div class='q-grid-container'>\n",
       "<div id='9e686b8c-0f6b-4d29-b19b-3d2670247b6c' class='q-grid'></div>\n",
       "</div>"
      ]
     },
     "metadata": {},
     "output_type": "display_data"
    },
    {
     "data": {
      "application/javascript": [
       "var path_dictionary = {\n",
       "    jquery_drag: \"https://cdn.rawgit.com/quantopian/qgrid/6988858671b6f80c7d1987e07ebff3dc810d20ce/qgrid/qgridjs//lib/jquery.event.drag-2.2\",\n",
       "    slick_core: \"https://cdn.rawgit.com/quantopian/qgrid/6988858671b6f80c7d1987e07ebff3dc810d20ce/qgrid/qgridjs//lib/slick.core.2.2\",\n",
       "    slick_data_view: \"https://cdn.rawgit.com/quantopian/qgrid/6988858671b6f80c7d1987e07ebff3dc810d20ce/qgrid/qgridjs//lib/slick.dataview.2.2\",\n",
       "    slick_grid: \"https://cdn.rawgit.com/quantopian/qgrid/6988858671b6f80c7d1987e07ebff3dc810d20ce/qgrid/qgridjs//lib/slick.grid.2.2\",\n",
       "    data_grid: \"https://cdn.rawgit.com/quantopian/qgrid/6988858671b6f80c7d1987e07ebff3dc810d20ce/qgrid/qgridjs//qgrid\",\n",
       "    date_filter: \"https://cdn.rawgit.com/quantopian/qgrid/6988858671b6f80c7d1987e07ebff3dc810d20ce/qgrid/qgridjs//qgrid.datefilter\",\n",
       "    slider_filter: \"https://cdn.rawgit.com/quantopian/qgrid/6988858671b6f80c7d1987e07ebff3dc810d20ce/qgrid/qgridjs//qgrid.sliderfilter\",\n",
       "    filter_base:  \"https://cdn.rawgit.com/quantopian/qgrid/6988858671b6f80c7d1987e07ebff3dc810d20ce/qgrid/qgridjs//qgrid.filterbase\",\n",
       "    handlebars: \"https://cdnjs.cloudflare.com/ajax/libs/handlebars.js/2.0.0/handlebars.min\"\n",
       "};\n",
       "\n",
       "var existing_config = require.s.contexts._.config;\n",
       "if (!existing_config.paths['underscore']){\n",
       "    path_dictionary['underscore'] = \"https://cdnjs.cloudflare.com/ajax/libs/underscore.js/1.7.0/underscore-min\";\n",
       "}\n",
       "\n",
       "if (!existing_config.paths['moment']){\n",
       "    path_dictionary['moment'] = \"https://cdnjs.cloudflare.com/ajax/libs/moment.js/2.8.3/moment.min\";\n",
       "}\n",
       "\n",
       "if (!existing_config.paths['jqueryui']){\n",
       "    path_dictionary['jqueryui'] = \"https://ajax.googleapis.com/ajax/libs/jqueryui/1.11.1/jquery-ui.min\";\n",
       "}\n",
       "\n",
       "require.config({\n",
       "    paths: path_dictionary\n",
       "});\n",
       "\n",
       "if (typeof jQuery === 'function') {\n",
       "    define('jquery', function() { return jQuery; });\n",
       "}\n",
       "\n",
       "require([\n",
       "    'jquery',\n",
       "    'jquery_drag',\n",
       "    'slick_core',\n",
       "    'slick_data_view'\n",
       "],\n",
       "function($){\n",
       "    $('#9e686b8c-0f6b-4d29-b19b-3d2670247b6c').closest('.rendered_html').removeClass('rendered_html');\n",
       "    require(['slick_grid'], function(){\n",
       "        require([\"data_grid\"], function(dgrid){\n",
       "            var grid = new dgrid.QGrid('#9e686b8c-0f6b-4d29-b19b-3d2670247b6c', [{\"null\":0,\"binary\":\"No\",\"binary2\":\"No\",\"date\":\"02122011\",\"qty1\":1,\"qty2\":null,\"testCol\":\"a\",\"val1\":3,\"val2\":2},{\"null\":1,\"binary\":\"Yes\",\"binary2\":\"Yes\",\"date\":\"02122014\",\"qty1\":0,\"qty2\":4.0,\"testCol\":\"b\",\"val1\":3,\"val2\":2},{\"null\":2,\"binary\":\"Yes\",\"binary2\":\"No\",\"date\":\"31032011\",\"qty1\":2,\"qty2\":1.0,\"testCol\":\"c\",\"val1\":3,\"val2\":2}], [{\"field\": null, \"type\": \"Integer\"}, {\"field\": \"binary\"}, {\"field\": \"binary2\"}, {\"field\": \"date\"}, {\"field\": \"qty1\", \"type\": \"Integer\"}, {\"field\": \"qty2\", \"type\": \"Float\"}, {\"field\": \"testCol\"}, {\"field\": \"val1\", \"type\": \"Integer\"}, {\"field\": \"val2\", \"type\": \"Integer\"}]);\n",
       "            grid.initialize_slick_grid();\n",
       "        });\n",
       "    });\n",
       "});"
      ]
     },
     "metadata": {},
     "output_type": "display_data"
    }
   ],
   "source": [
    "qgrid.show_grid(a, remote_js=True)"
   ]
  },
  {
   "cell_type": "code",
   "execution_count": 8,
   "metadata": {
    "collapsed": false
   },
   "outputs": [],
   "source": [
    "rdf = pd.DataFrame(data = np.random.rand(73),index=pd.date_range('1 aug 2015','4 aug 2015',freq='H'),columns=['predicted'])"
   ]
  },
  {
   "cell_type": "code",
   "execution_count": 17,
   "metadata": {
    "collapsed": false
   },
   "outputs": [
    {
     "data": {
      "text/html": [
       "<script type=\"text/javascript\">\n",
       "if ($(\"#dg-css\").length == 0){\n",
       "    $(\"head\").append([\n",
       "        \"<link href='https://cdn.rawgit.com/quantopian/qgrid/6988858671b6f80c7d1987e07ebff3dc810d20ce/qgrid/qgridjs//lib/slick.grid.css' rel='stylesheet'>\",\n",
       "        \"<link href='https://cdn.rawgit.com/quantopian/qgrid/6988858671b6f80c7d1987e07ebff3dc810d20ce/qgrid/qgridjs//lib/slick-default-theme.css' rel='stylesheet'>\",\n",
       "        \"<link href='http://cdnjs.cloudflare.com/ajax/libs/jqueryui/1.10.4/css/jquery-ui.min.css' rel='stylesheet'>\",\n",
       "        \"<link id='dg-css' href='https://cdn.rawgit.com/quantopian/qgrid/6988858671b6f80c7d1987e07ebff3dc810d20ce/qgrid/qgridjs//qgrid.css' rel='stylesheet'>\"\n",
       "    ]);\n",
       "}\n",
       "</script>\n",
       "<div class='q-grid-container'>\n",
       "<div id='68b26435-bd5c-4ee5-82dc-9be861b2c39d' class='q-grid'></div>\n",
       "</div>"
      ]
     },
     "metadata": {},
     "output_type": "display_data"
    },
    {
     "data": {
      "application/javascript": [
       "var path_dictionary = {\n",
       "    jquery_drag: \"https://cdn.rawgit.com/quantopian/qgrid/6988858671b6f80c7d1987e07ebff3dc810d20ce/qgrid/qgridjs//lib/jquery.event.drag-2.2\",\n",
       "    slick_core: \"https://cdn.rawgit.com/quantopian/qgrid/6988858671b6f80c7d1987e07ebff3dc810d20ce/qgrid/qgridjs//lib/slick.core.2.2\",\n",
       "    slick_data_view: \"https://cdn.rawgit.com/quantopian/qgrid/6988858671b6f80c7d1987e07ebff3dc810d20ce/qgrid/qgridjs//lib/slick.dataview.2.2\",\n",
       "    slick_grid: \"https://cdn.rawgit.com/quantopian/qgrid/6988858671b6f80c7d1987e07ebff3dc810d20ce/qgrid/qgridjs//lib/slick.grid.2.2\",\n",
       "    data_grid: \"https://cdn.rawgit.com/quantopian/qgrid/6988858671b6f80c7d1987e07ebff3dc810d20ce/qgrid/qgridjs//qgrid\",\n",
       "    date_filter: \"https://cdn.rawgit.com/quantopian/qgrid/6988858671b6f80c7d1987e07ebff3dc810d20ce/qgrid/qgridjs//qgrid.datefilter\",\n",
       "    slider_filter: \"https://cdn.rawgit.com/quantopian/qgrid/6988858671b6f80c7d1987e07ebff3dc810d20ce/qgrid/qgridjs//qgrid.sliderfilter\",\n",
       "    filter_base:  \"https://cdn.rawgit.com/quantopian/qgrid/6988858671b6f80c7d1987e07ebff3dc810d20ce/qgrid/qgridjs//qgrid.filterbase\",\n",
       "    handlebars: \"https://cdnjs.cloudflare.com/ajax/libs/handlebars.js/2.0.0/handlebars.min\"\n",
       "};\n",
       "\n",
       "var existing_config = require.s.contexts._.config;\n",
       "if (!existing_config.paths['underscore']){\n",
       "    path_dictionary['underscore'] = \"https://cdnjs.cloudflare.com/ajax/libs/underscore.js/1.7.0/underscore-min\";\n",
       "}\n",
       "\n",
       "if (!existing_config.paths['moment']){\n",
       "    path_dictionary['moment'] = \"https://cdnjs.cloudflare.com/ajax/libs/moment.js/2.8.3/moment.min\";\n",
       "}\n",
       "\n",
       "if (!existing_config.paths['jqueryui']){\n",
       "    path_dictionary['jqueryui'] = \"https://ajax.googleapis.com/ajax/libs/jqueryui/1.11.1/jquery-ui.min\";\n",
       "}\n",
       "\n",
       "require.config({\n",
       "    paths: path_dictionary\n",
       "});\n",
       "\n",
       "if (typeof jQuery === 'function') {\n",
       "    define('jquery', function() { return jQuery; });\n",
       "}\n",
       "\n",
       "require([\n",
       "    'jquery',\n",
       "    'jquery_drag',\n",
       "    'slick_core',\n",
       "    'slick_data_view'\n",
       "],\n",
       "function($){\n",
       "    $('#68b26435-bd5c-4ee5-82dc-9be861b2c39d').closest('.rendered_html').removeClass('rendered_html');\n",
       "    require(['slick_grid'], function(){\n",
       "        require([\"data_grid\"], function(dgrid){\n",
       "            var grid = new dgrid.QGrid('#68b26435-bd5c-4ee5-82dc-9be861b2c39d', [{\"Date\":\"2015-08-01T00:00:00.000Z\",\"0\":0.321363,\"1\":0.211509,\"2\":0.506809,\"3\":0.458226,\"4\":0.953289,\"5\":0.465108,\"6\":0.341366,\"7\":0.030839,\"8\":0.413307,\"9\":0.109473,\"10\":0.271272,\"11\":0.72336,\"12\":0.548265,\"13\":0.504379,\"14\":0.972805,\"15\":0.781205,\"16\":0.284762,\"17\":0.753088,\"18\":0.350804,\"19\":0.511164,\"20\":0.744799,\"21\":0.423801,\"22\":0.859259,\"23\":0.706911},{\"Date\":\"2015-08-03T00:00:00.000Z\",\"0\":0.309389,\"1\":0.360425,\"2\":0.694859,\"3\":0.412856,\"4\":0.228779,\"5\":0.4814,\"6\":0.814702,\"7\":0.760793,\"8\":0.086495,\"9\":0.677663,\"10\":0.297357,\"11\":0.322431,\"12\":0.784697,\"13\":0.35196,\"14\":0.297104,\"15\":0.453469,\"16\":0.86467,\"17\":0.554343,\"18\":0.412965,\"19\":0.42115,\"20\":0.142731,\"21\":0.576889,\"22\":0.64455,\"23\":0.841},{\"Date\":\"2015-08-04T00:00:00.000Z\",\"0\":0.700691,\"1\":null,\"2\":null,\"3\":null,\"4\":null,\"5\":null,\"6\":null,\"7\":null,\"8\":null,\"9\":null,\"10\":null,\"11\":null,\"12\":null,\"13\":null,\"14\":null,\"15\":null,\"16\":null,\"17\":null,\"18\":null,\"19\":null,\"20\":null,\"21\":null,\"22\":null,\"23\":null}], [{\"field\": \"Date\", \"type\": \"Datetime\"}, {\"field\": 0, \"type\": \"Float\"}, {\"field\": 1, \"type\": \"Float\"}, {\"field\": 2, \"type\": \"Float\"}, {\"field\": 3, \"type\": \"Float\"}, {\"field\": 4, \"type\": \"Float\"}, {\"field\": 5, \"type\": \"Float\"}, {\"field\": 6, \"type\": \"Float\"}, {\"field\": 7, \"type\": \"Float\"}, {\"field\": 8, \"type\": \"Float\"}, {\"field\": 9, \"type\": \"Float\"}, {\"field\": 10, \"type\": \"Float\"}, {\"field\": 11, \"type\": \"Float\"}, {\"field\": 12, \"type\": \"Float\"}, {\"field\": 13, \"type\": \"Float\"}, {\"field\": 14, \"type\": \"Float\"}, {\"field\": 15, \"type\": \"Float\"}, {\"field\": 16, \"type\": \"Float\"}, {\"field\": 17, \"type\": \"Float\"}, {\"field\": 18, \"type\": \"Float\"}, {\"field\": 19, \"type\": \"Float\"}, {\"field\": 20, \"type\": \"Float\"}, {\"field\": 21, \"type\": \"Float\"}, {\"field\": 22, \"type\": \"Float\"}, {\"field\": 23, \"type\": \"Float\"}]);\n",
       "            grid.initialize_slick_grid();\n",
       "        });\n",
       "    });\n",
       "});"
      ]
     },
     "metadata": {},
     "output_type": "display_data"
    }
   ],
   "source": [
    "rdf['hour'] = rdf.index.hour\n",
    "rdf['isweekend'] = rdf.index.weekday > 5\n",
    "\n",
    "rdf['Date'] = rdf.index.format(formatter=lambda x: pd.to_datetime(x.strftime('%d %b %Y')))\n",
    "qgrid.show_grid(pd.pivot_table(rdf.loc[~rdf.isweekend],values='predicted',columns='hour',index='Date'), remote_js=True)\n"
   ]
  },
  {
   "cell_type": "code",
   "execution_count": 18,
   "metadata": {
    "collapsed": false
   },
   "outputs": [
    {
     "data": {
      "text/html": [
       "<script type=\"text/javascript\">\n",
       "if ($(\"#dg-css\").length == 0){\n",
       "    $(\"head\").append([\n",
       "        \"<link href='/nbextensions/qgridjs/lib/slick.grid.css' rel='stylesheet'>\",\n",
       "        \"<link href='/nbextensions/qgridjs/lib/slick-default-theme.css' rel='stylesheet'>\",\n",
       "        \"<link href='http://cdnjs.cloudflare.com/ajax/libs/jqueryui/1.10.4/css/jquery-ui.min.css' rel='stylesheet'>\",\n",
       "        \"<link id='dg-css' href='/nbextensions/qgridjs/qgrid.css' rel='stylesheet'>\"\n",
       "    ]);\n",
       "}\n",
       "</script>\n",
       "<div class='q-grid-container'>\n",
       "<div id='29e4a2bf-08ce-4531-99cc-2659b5b2d782' class='q-grid'></div>\n",
       "</div>"
      ]
     },
     "metadata": {},
     "output_type": "display_data"
    },
    {
     "data": {
      "application/javascript": [
       "var path_dictionary = {\n",
       "    jquery_drag: \"/nbextensions/qgridjs/lib/jquery.event.drag-2.2\",\n",
       "    slick_core: \"/nbextensions/qgridjs/lib/slick.core.2.2\",\n",
       "    slick_data_view: \"/nbextensions/qgridjs/lib/slick.dataview.2.2\",\n",
       "    slick_grid: \"/nbextensions/qgridjs/lib/slick.grid.2.2\",\n",
       "    data_grid: \"/nbextensions/qgridjs/qgrid\",\n",
       "    date_filter: \"/nbextensions/qgridjs/qgrid.datefilter\",\n",
       "    slider_filter: \"/nbextensions/qgridjs/qgrid.sliderfilter\",\n",
       "    filter_base:  \"/nbextensions/qgridjs/qgrid.filterbase\",\n",
       "    handlebars: \"https://cdnjs.cloudflare.com/ajax/libs/handlebars.js/2.0.0/handlebars.min\"\n",
       "};\n",
       "\n",
       "var existing_config = require.s.contexts._.config;\n",
       "if (!existing_config.paths['underscore']){\n",
       "    path_dictionary['underscore'] = \"https://cdnjs.cloudflare.com/ajax/libs/underscore.js/1.7.0/underscore-min\";\n",
       "}\n",
       "\n",
       "if (!existing_config.paths['moment']){\n",
       "    path_dictionary['moment'] = \"https://cdnjs.cloudflare.com/ajax/libs/moment.js/2.8.3/moment.min\";\n",
       "}\n",
       "\n",
       "if (!existing_config.paths['jqueryui']){\n",
       "    path_dictionary['jqueryui'] = \"https://ajax.googleapis.com/ajax/libs/jqueryui/1.11.1/jquery-ui.min\";\n",
       "}\n",
       "\n",
       "require.config({\n",
       "    paths: path_dictionary\n",
       "});\n",
       "\n",
       "if (typeof jQuery === 'function') {\n",
       "    define('jquery', function() { return jQuery; });\n",
       "}\n",
       "\n",
       "require([\n",
       "    'jquery',\n",
       "    'jquery_drag',\n",
       "    'slick_core',\n",
       "    'slick_data_view'\n",
       "],\n",
       "function($){\n",
       "    $('#29e4a2bf-08ce-4531-99cc-2659b5b2d782').closest('.rendered_html').removeClass('rendered_html');\n",
       "    require(['slick_grid'], function(){\n",
       "        require([\"data_grid\"], function(dgrid){\n",
       "            var grid = new dgrid.QGrid('#29e4a2bf-08ce-4531-99cc-2659b5b2d782', [{\"null\":\"2015-08-01T00:00:00.000Z\",\"predicted\":0.321363,\"hour\":0,\"isweekend\":false,\"Date\":\"2015-08-01T00:00:00.000Z\"},{\"null\":\"2015-08-01T01:00:00.000Z\",\"predicted\":0.211509,\"hour\":1,\"isweekend\":false,\"Date\":\"2015-08-01T00:00:00.000Z\"},{\"null\":\"2015-08-01T02:00:00.000Z\",\"predicted\":0.506809,\"hour\":2,\"isweekend\":false,\"Date\":\"2015-08-01T00:00:00.000Z\"},{\"null\":\"2015-08-01T03:00:00.000Z\",\"predicted\":0.458226,\"hour\":3,\"isweekend\":false,\"Date\":\"2015-08-01T00:00:00.000Z\"},{\"null\":\"2015-08-01T04:00:00.000Z\",\"predicted\":0.953289,\"hour\":4,\"isweekend\":false,\"Date\":\"2015-08-01T00:00:00.000Z\"},{\"null\":\"2015-08-01T05:00:00.000Z\",\"predicted\":0.465108,\"hour\":5,\"isweekend\":false,\"Date\":\"2015-08-01T00:00:00.000Z\"},{\"null\":\"2015-08-01T06:00:00.000Z\",\"predicted\":0.341366,\"hour\":6,\"isweekend\":false,\"Date\":\"2015-08-01T00:00:00.000Z\"},{\"null\":\"2015-08-01T07:00:00.000Z\",\"predicted\":0.030839,\"hour\":7,\"isweekend\":false,\"Date\":\"2015-08-01T00:00:00.000Z\"},{\"null\":\"2015-08-01T08:00:00.000Z\",\"predicted\":0.413307,\"hour\":8,\"isweekend\":false,\"Date\":\"2015-08-01T00:00:00.000Z\"},{\"null\":\"2015-08-01T09:00:00.000Z\",\"predicted\":0.109473,\"hour\":9,\"isweekend\":false,\"Date\":\"2015-08-01T00:00:00.000Z\"},{\"null\":\"2015-08-01T10:00:00.000Z\",\"predicted\":0.271272,\"hour\":10,\"isweekend\":false,\"Date\":\"2015-08-01T00:00:00.000Z\"},{\"null\":\"2015-08-01T11:00:00.000Z\",\"predicted\":0.72336,\"hour\":11,\"isweekend\":false,\"Date\":\"2015-08-01T00:00:00.000Z\"},{\"null\":\"2015-08-01T12:00:00.000Z\",\"predicted\":0.548265,\"hour\":12,\"isweekend\":false,\"Date\":\"2015-08-01T00:00:00.000Z\"},{\"null\":\"2015-08-01T13:00:00.000Z\",\"predicted\":0.504379,\"hour\":13,\"isweekend\":false,\"Date\":\"2015-08-01T00:00:00.000Z\"},{\"null\":\"2015-08-01T14:00:00.000Z\",\"predicted\":0.972805,\"hour\":14,\"isweekend\":false,\"Date\":\"2015-08-01T00:00:00.000Z\"},{\"null\":\"2015-08-01T15:00:00.000Z\",\"predicted\":0.781205,\"hour\":15,\"isweekend\":false,\"Date\":\"2015-08-01T00:00:00.000Z\"},{\"null\":\"2015-08-01T16:00:00.000Z\",\"predicted\":0.284762,\"hour\":16,\"isweekend\":false,\"Date\":\"2015-08-01T00:00:00.000Z\"},{\"null\":\"2015-08-01T17:00:00.000Z\",\"predicted\":0.753088,\"hour\":17,\"isweekend\":false,\"Date\":\"2015-08-01T00:00:00.000Z\"},{\"null\":\"2015-08-01T18:00:00.000Z\",\"predicted\":0.350804,\"hour\":18,\"isweekend\":false,\"Date\":\"2015-08-01T00:00:00.000Z\"},{\"null\":\"2015-08-01T19:00:00.000Z\",\"predicted\":0.511164,\"hour\":19,\"isweekend\":false,\"Date\":\"2015-08-01T00:00:00.000Z\"},{\"null\":\"2015-08-01T20:00:00.000Z\",\"predicted\":0.744799,\"hour\":20,\"isweekend\":false,\"Date\":\"2015-08-01T00:00:00.000Z\"},{\"null\":\"2015-08-01T21:00:00.000Z\",\"predicted\":0.423801,\"hour\":21,\"isweekend\":false,\"Date\":\"2015-08-01T00:00:00.000Z\"},{\"null\":\"2015-08-01T22:00:00.000Z\",\"predicted\":0.859259,\"hour\":22,\"isweekend\":false,\"Date\":\"2015-08-01T00:00:00.000Z\"},{\"null\":\"2015-08-01T23:00:00.000Z\",\"predicted\":0.706911,\"hour\":23,\"isweekend\":false,\"Date\":\"2015-08-01T00:00:00.000Z\"},{\"null\":\"2015-08-02T00:00:00.000Z\",\"predicted\":0.286797,\"hour\":0,\"isweekend\":true,\"Date\":\"2015-08-02T00:00:00.000Z\"},{\"null\":\"2015-08-02T01:00:00.000Z\",\"predicted\":0.722086,\"hour\":1,\"isweekend\":true,\"Date\":\"2015-08-02T00:00:00.000Z\"},{\"null\":\"2015-08-02T02:00:00.000Z\",\"predicted\":0.781676,\"hour\":2,\"isweekend\":true,\"Date\":\"2015-08-02T00:00:00.000Z\"},{\"null\":\"2015-08-02T03:00:00.000Z\",\"predicted\":0.459925,\"hour\":3,\"isweekend\":true,\"Date\":\"2015-08-02T00:00:00.000Z\"},{\"null\":\"2015-08-02T04:00:00.000Z\",\"predicted\":0.896816,\"hour\":4,\"isweekend\":true,\"Date\":\"2015-08-02T00:00:00.000Z\"},{\"null\":\"2015-08-02T05:00:00.000Z\",\"predicted\":0.463465,\"hour\":5,\"isweekend\":true,\"Date\":\"2015-08-02T00:00:00.000Z\"},{\"null\":\"2015-08-02T06:00:00.000Z\",\"predicted\":0.074677,\"hour\":6,\"isweekend\":true,\"Date\":\"2015-08-02T00:00:00.000Z\"},{\"null\":\"2015-08-02T07:00:00.000Z\",\"predicted\":0.342745,\"hour\":7,\"isweekend\":true,\"Date\":\"2015-08-02T00:00:00.000Z\"},{\"null\":\"2015-08-02T08:00:00.000Z\",\"predicted\":0.624998,\"hour\":8,\"isweekend\":true,\"Date\":\"2015-08-02T00:00:00.000Z\"},{\"null\":\"2015-08-02T09:00:00.000Z\",\"predicted\":0.185606,\"hour\":9,\"isweekend\":true,\"Date\":\"2015-08-02T00:00:00.000Z\"},{\"null\":\"2015-08-02T10:00:00.000Z\",\"predicted\":0.649284,\"hour\":10,\"isweekend\":true,\"Date\":\"2015-08-02T00:00:00.000Z\"},{\"null\":\"2015-08-02T11:00:00.000Z\",\"predicted\":0.354115,\"hour\":11,\"isweekend\":true,\"Date\":\"2015-08-02T00:00:00.000Z\"},{\"null\":\"2015-08-02T12:00:00.000Z\",\"predicted\":0.695868,\"hour\":12,\"isweekend\":true,\"Date\":\"2015-08-02T00:00:00.000Z\"},{\"null\":\"2015-08-02T13:00:00.000Z\",\"predicted\":0.903093,\"hour\":13,\"isweekend\":true,\"Date\":\"2015-08-02T00:00:00.000Z\"},{\"null\":\"2015-08-02T14:00:00.000Z\",\"predicted\":0.31384,\"hour\":14,\"isweekend\":true,\"Date\":\"2015-08-02T00:00:00.000Z\"},{\"null\":\"2015-08-02T15:00:00.000Z\",\"predicted\":0.422213,\"hour\":15,\"isweekend\":true,\"Date\":\"2015-08-02T00:00:00.000Z\"},{\"null\":\"2015-08-02T16:00:00.000Z\",\"predicted\":0.270925,\"hour\":16,\"isweekend\":true,\"Date\":\"2015-08-02T00:00:00.000Z\"},{\"null\":\"2015-08-02T17:00:00.000Z\",\"predicted\":0.187037,\"hour\":17,\"isweekend\":true,\"Date\":\"2015-08-02T00:00:00.000Z\"},{\"null\":\"2015-08-02T18:00:00.000Z\",\"predicted\":0.771857,\"hour\":18,\"isweekend\":true,\"Date\":\"2015-08-02T00:00:00.000Z\"},{\"null\":\"2015-08-02T19:00:00.000Z\",\"predicted\":0.823722,\"hour\":19,\"isweekend\":true,\"Date\":\"2015-08-02T00:00:00.000Z\"},{\"null\":\"2015-08-02T20:00:00.000Z\",\"predicted\":0.414151,\"hour\":20,\"isweekend\":true,\"Date\":\"2015-08-02T00:00:00.000Z\"},{\"null\":\"2015-08-02T21:00:00.000Z\",\"predicted\":0.568076,\"hour\":21,\"isweekend\":true,\"Date\":\"2015-08-02T00:00:00.000Z\"},{\"null\":\"2015-08-02T22:00:00.000Z\",\"predicted\":0.105838,\"hour\":22,\"isweekend\":true,\"Date\":\"2015-08-02T00:00:00.000Z\"},{\"null\":\"2015-08-02T23:00:00.000Z\",\"predicted\":0.639431,\"hour\":23,\"isweekend\":true,\"Date\":\"2015-08-02T00:00:00.000Z\"},{\"null\":\"2015-08-03T00:00:00.000Z\",\"predicted\":0.309389,\"hour\":0,\"isweekend\":false,\"Date\":\"2015-08-03T00:00:00.000Z\"},{\"null\":\"2015-08-03T01:00:00.000Z\",\"predicted\":0.360425,\"hour\":1,\"isweekend\":false,\"Date\":\"2015-08-03T00:00:00.000Z\"},{\"null\":\"2015-08-03T02:00:00.000Z\",\"predicted\":0.694859,\"hour\":2,\"isweekend\":false,\"Date\":\"2015-08-03T00:00:00.000Z\"},{\"null\":\"2015-08-03T03:00:00.000Z\",\"predicted\":0.412856,\"hour\":3,\"isweekend\":false,\"Date\":\"2015-08-03T00:00:00.000Z\"},{\"null\":\"2015-08-03T04:00:00.000Z\",\"predicted\":0.228779,\"hour\":4,\"isweekend\":false,\"Date\":\"2015-08-03T00:00:00.000Z\"},{\"null\":\"2015-08-03T05:00:00.000Z\",\"predicted\":0.4814,\"hour\":5,\"isweekend\":false,\"Date\":\"2015-08-03T00:00:00.000Z\"},{\"null\":\"2015-08-03T06:00:00.000Z\",\"predicted\":0.814702,\"hour\":6,\"isweekend\":false,\"Date\":\"2015-08-03T00:00:00.000Z\"},{\"null\":\"2015-08-03T07:00:00.000Z\",\"predicted\":0.760793,\"hour\":7,\"isweekend\":false,\"Date\":\"2015-08-03T00:00:00.000Z\"},{\"null\":\"2015-08-03T08:00:00.000Z\",\"predicted\":0.086495,\"hour\":8,\"isweekend\":false,\"Date\":\"2015-08-03T00:00:00.000Z\"},{\"null\":\"2015-08-03T09:00:00.000Z\",\"predicted\":0.677663,\"hour\":9,\"isweekend\":false,\"Date\":\"2015-08-03T00:00:00.000Z\"},{\"null\":\"2015-08-03T10:00:00.000Z\",\"predicted\":0.297357,\"hour\":10,\"isweekend\":false,\"Date\":\"2015-08-03T00:00:00.000Z\"},{\"null\":\"2015-08-03T11:00:00.000Z\",\"predicted\":0.322431,\"hour\":11,\"isweekend\":false,\"Date\":\"2015-08-03T00:00:00.000Z\"},{\"null\":\"2015-08-03T12:00:00.000Z\",\"predicted\":0.784697,\"hour\":12,\"isweekend\":false,\"Date\":\"2015-08-03T00:00:00.000Z\"},{\"null\":\"2015-08-03T13:00:00.000Z\",\"predicted\":0.35196,\"hour\":13,\"isweekend\":false,\"Date\":\"2015-08-03T00:00:00.000Z\"},{\"null\":\"2015-08-03T14:00:00.000Z\",\"predicted\":0.297104,\"hour\":14,\"isweekend\":false,\"Date\":\"2015-08-03T00:00:00.000Z\"},{\"null\":\"2015-08-03T15:00:00.000Z\",\"predicted\":0.453469,\"hour\":15,\"isweekend\":false,\"Date\":\"2015-08-03T00:00:00.000Z\"},{\"null\":\"2015-08-03T16:00:00.000Z\",\"predicted\":0.86467,\"hour\":16,\"isweekend\":false,\"Date\":\"2015-08-03T00:00:00.000Z\"},{\"null\":\"2015-08-03T17:00:00.000Z\",\"predicted\":0.554343,\"hour\":17,\"isweekend\":false,\"Date\":\"2015-08-03T00:00:00.000Z\"},{\"null\":\"2015-08-03T18:00:00.000Z\",\"predicted\":0.412965,\"hour\":18,\"isweekend\":false,\"Date\":\"2015-08-03T00:00:00.000Z\"},{\"null\":\"2015-08-03T19:00:00.000Z\",\"predicted\":0.42115,\"hour\":19,\"isweekend\":false,\"Date\":\"2015-08-03T00:00:00.000Z\"},{\"null\":\"2015-08-03T20:00:00.000Z\",\"predicted\":0.142731,\"hour\":20,\"isweekend\":false,\"Date\":\"2015-08-03T00:00:00.000Z\"},{\"null\":\"2015-08-03T21:00:00.000Z\",\"predicted\":0.576889,\"hour\":21,\"isweekend\":false,\"Date\":\"2015-08-03T00:00:00.000Z\"},{\"null\":\"2015-08-03T22:00:00.000Z\",\"predicted\":0.64455,\"hour\":22,\"isweekend\":false,\"Date\":\"2015-08-03T00:00:00.000Z\"},{\"null\":\"2015-08-03T23:00:00.000Z\",\"predicted\":0.841,\"hour\":23,\"isweekend\":false,\"Date\":\"2015-08-03T00:00:00.000Z\"},{\"null\":\"2015-08-04T00:00:00.000Z\",\"predicted\":0.700691,\"hour\":0,\"isweekend\":false,\"Date\":\"2015-08-04T00:00:00.000Z\"}], [{\"field\": null, \"type\": \"Datetime\"}, {\"field\": \"predicted\", \"type\": \"Float\"}, {\"field\": \"hour\", \"type\": \"Integer\"}, {\"field\": \"isweekend\", \"type\": \"Integer\"}, {\"field\": \"Date\", \"type\": \"Datetime\"}]);\n",
       "            grid.initialize_slick_grid();\n",
       "        });\n",
       "    });\n",
       "});"
      ]
     },
     "metadata": {},
     "output_type": "display_data"
    }
   ],
   "source": [
    "qgrid.show_grid(rdf, remote_js=False)"
   ]
  },
  {
   "cell_type": "code",
   "execution_count": 11,
   "metadata": {
    "collapsed": false
   },
   "outputs": [
    {
     "ename": "NameError",
     "evalue": "name 'acopy' is not defined",
     "output_type": "error",
     "traceback": [
      "\u001b[1;31m---------------------------------------------------------------------------\u001b[0m",
      "\u001b[1;31mNameError\u001b[0m                                 Traceback (most recent call last)",
      "\u001b[1;32m<ipython-input-11-963d62011e68>\u001b[0m in \u001b[0;36m<module>\u001b[1;34m()\u001b[0m\n\u001b[0;32m      1\u001b[0m \u001b[1;32mdel\u001b[0m \u001b[0ma\u001b[0m\u001b[1;33m\u001b[0m\u001b[0m\n\u001b[0;32m      2\u001b[0m \u001b[0mgc\u001b[0m\u001b[1;33m.\u001b[0m\u001b[0mcollect\u001b[0m\u001b[1;33m(\u001b[0m\u001b[1;33m)\u001b[0m\u001b[1;33m\u001b[0m\u001b[0m\n\u001b[1;32m----> 3\u001b[1;33m \u001b[0mqgrid\u001b[0m\u001b[1;33m.\u001b[0m\u001b[0mshow_grid\u001b[0m\u001b[1;33m(\u001b[0m\u001b[0macopy\u001b[0m\u001b[1;33m,\u001b[0m \u001b[0mremote_js\u001b[0m\u001b[1;33m=\u001b[0m\u001b[0mTrue\u001b[0m\u001b[1;33m)\u001b[0m\u001b[1;33m\u001b[0m\u001b[0m\n\u001b[0m\u001b[0;32m      4\u001b[0m \u001b[1;31m#acopy\u001b[0m\u001b[1;33m\u001b[0m\u001b[1;33m\u001b[0m\u001b[0m\n",
      "\u001b[1;31mNameError\u001b[0m: name 'acopy' is not defined"
     ]
    }
   ],
   "source": [
    "del a\n",
    "gc.collect()\n",
    "qgrid.show_grid(acopy, remote_js=True)\n",
    "#acopy"
   ]
  },
  {
   "cell_type": "code",
   "execution_count": 5,
   "metadata": {
    "collapsed": false
   },
   "outputs": [
    {
     "ename": "NameError",
     "evalue": "name 'a' is not defined",
     "output_type": "error",
     "traceback": [
      "\u001b[1;31m---------------------------------------------------------------------------\u001b[0m",
      "\u001b[1;31mNameError\u001b[0m                                 Traceback (most recent call last)",
      "\u001b[1;32m<ipython-input-5-1b65ba1ad7ec>\u001b[0m in \u001b[0;36m<module>\u001b[1;34m()\u001b[0m\n\u001b[1;32m----> 1\u001b[1;33m \u001b[0ma\u001b[0m\u001b[1;33m.\u001b[0m\u001b[0mdate\u001b[0m \u001b[1;33m=\u001b[0m \u001b[0ma\u001b[0m\u001b[1;33m.\u001b[0m\u001b[0mdate\u001b[0m\u001b[1;33m.\u001b[0m\u001b[0mapply\u001b[0m\u001b[1;33m(\u001b[0m\u001b[1;32mlambda\u001b[0m \u001b[0mx\u001b[0m\u001b[1;33m:\u001b[0m \u001b[0mpd\u001b[0m\u001b[1;33m.\u001b[0m\u001b[0mto_datetime\u001b[0m\u001b[1;33m(\u001b[0m\u001b[0mx\u001b[0m\u001b[1;33m,\u001b[0m \u001b[0mformat\u001b[0m \u001b[1;33m=\u001b[0m \u001b[1;34m\"%d%m%Y\"\u001b[0m\u001b[1;33m)\u001b[0m\u001b[1;33m)\u001b[0m\u001b[1;33m\u001b[0m\u001b[0m\n\u001b[0m",
      "\u001b[1;31mNameError\u001b[0m: name 'a' is not defined"
     ]
    }
   ],
   "source": [
    "a.date = a.date.apply(lambda x: pd.to_datetime(x, format = \"%d%m%Y\"))"
   ]
  },
  {
   "cell_type": "code",
   "execution_count": 12,
   "metadata": {
    "collapsed": false
   },
   "outputs": [
    {
     "ename": "NameError",
     "evalue": "name 'a' is not defined",
     "output_type": "error",
     "traceback": [
      "\u001b[1;31m---------------------------------------------------------------------------\u001b[0m",
      "\u001b[1;31mNameError\u001b[0m                                 Traceback (most recent call last)",
      "\u001b[1;32m<ipython-input-12-b7a991afc100>\u001b[0m in \u001b[0;36m<module>\u001b[1;34m()\u001b[0m\n\u001b[1;32m----> 1\u001b[1;33m \u001b[0ma\u001b[0m\u001b[1;33m.\u001b[0m\u001b[0mrename_axis\u001b[0m\u001b[1;33m(\u001b[0m\u001b[1;33m{\u001b[0m\u001b[1;34m'val1'\u001b[0m\u001b[1;33m:\u001b[0m\u001b[1;34m'val2'\u001b[0m\u001b[1;33m}\u001b[0m\u001b[1;33m,\u001b[0m\u001b[0maxis\u001b[0m\u001b[1;33m=\u001b[0m\u001b[1;36m1\u001b[0m\u001b[1;33m,\u001b[0m\u001b[0minplace\u001b[0m\u001b[1;33m=\u001b[0m\u001b[0mTrue\u001b[0m\u001b[1;33m)\u001b[0m\u001b[1;33m\u001b[0m\u001b[0m\n\u001b[0m\u001b[0;32m      2\u001b[0m \u001b[0ma\u001b[0m\u001b[1;33m\u001b[0m\u001b[0m\n",
      "\u001b[1;31mNameError\u001b[0m: name 'a' is not defined"
     ]
    }
   ],
   "source": [
    "a.rename_axis({'val1':'val2'},axis=1,inplace=True)\n",
    "a"
   ]
  },
  {
   "cell_type": "code",
   "execution_count": 13,
   "metadata": {
    "collapsed": false
   },
   "outputs": [
    {
     "ename": "NameError",
     "evalue": "name 'a' is not defined",
     "output_type": "error",
     "traceback": [
      "\u001b[1;31m---------------------------------------------------------------------------\u001b[0m",
      "\u001b[1;31mNameError\u001b[0m                                 Traceback (most recent call last)",
      "\u001b[1;32m<ipython-input-13-3e4a320181be>\u001b[0m in \u001b[0;36m<module>\u001b[1;34m()\u001b[0m\n\u001b[1;32m----> 1\u001b[1;33m \u001b[0ma\u001b[0m\u001b[1;33m[\u001b[0m\u001b[1;34m'binary2'\u001b[0m\u001b[1;33m]\u001b[0m \u001b[1;33m=\u001b[0m \u001b[1;33m[\u001b[0m\u001b[1;34m'Yes'\u001b[0m\u001b[1;33m,\u001b[0m\u001b[1;34m'Yes'\u001b[0m\u001b[1;33m,\u001b[0m\u001b[1;34m'No'\u001b[0m\u001b[1;33m]\u001b[0m\u001b[1;33m\u001b[0m\u001b[0m\n\u001b[0m\u001b[0;32m      2\u001b[0m \u001b[1;31m#a.rename_axis({'binary2':'binary'},axis=1,inplace=True)\u001b[0m\u001b[1;33m\u001b[0m\u001b[1;33m\u001b[0m\u001b[0m\n\u001b[0;32m      3\u001b[0m \u001b[0ma\u001b[0m\u001b[1;33m\u001b[0m\u001b[0m\n",
      "\u001b[1;31mNameError\u001b[0m: name 'a' is not defined"
     ]
    }
   ],
   "source": [
    "a['binary2'] = ['Yes','Yes','No']\n",
    "#a.rename_axis({'binary2':'binary'},axis=1,inplace=True)\n",
    "a"
   ]
  },
  {
   "cell_type": "code",
   "execution_count": 14,
   "metadata": {
    "collapsed": false
   },
   "outputs": [
    {
     "ename": "NameError",
     "evalue": "name 'a' is not defined",
     "output_type": "error",
     "traceback": [
      "\u001b[1;31m---------------------------------------------------------------------------\u001b[0m",
      "\u001b[1;31mNameError\u001b[0m                                 Traceback (most recent call last)",
      "\u001b[1;32m<ipython-input-14-725ab95f1668>\u001b[0m in \u001b[0;36m<module>\u001b[1;34m()\u001b[0m\n\u001b[1;32m----> 1\u001b[1;33m \u001b[0mtp\u001b[0m \u001b[1;33m=\u001b[0m \u001b[0mpd\u001b[0m\u001b[1;33m.\u001b[0m\u001b[0mget_dummies\u001b[0m\u001b[1;33m(\u001b[0m\u001b[0ma\u001b[0m\u001b[1;33m[\u001b[0m\u001b[1;33m[\u001b[0m\u001b[1;34m'binary'\u001b[0m\u001b[1;33m,\u001b[0m\u001b[1;34m'binary2'\u001b[0m\u001b[1;33m]\u001b[0m\u001b[1;33m]\u001b[0m\u001b[1;33m.\u001b[0m\u001b[0mstack\u001b[0m\u001b[1;33m(\u001b[0m\u001b[1;33m)\u001b[0m\u001b[1;33m)\u001b[0m\u001b[1;31m#.sum(level=1)\u001b[0m\u001b[1;33m\u001b[0m\u001b[0m\n\u001b[0m",
      "\u001b[1;31mNameError\u001b[0m: name 'a' is not defined"
     ]
    }
   ],
   "source": [
    "tp = pd.get_dummies(a[['binary','binary2']].stack())#.sum(level=1)"
   ]
  },
  {
   "cell_type": "code",
   "execution_count": null,
   "metadata": {
    "collapsed": true
   },
   "outputs": [],
   "source": [
    "pd.get_dummies(a[['binary','binary2']].stack()).sum(level=0)"
   ]
  },
  {
   "cell_type": "code",
   "execution_count": 51,
   "metadata": {
    "collapsed": false
   },
   "outputs": [
    {
     "data": {
      "text/html": [
       "<div>\n",
       "<table border=\"1\" class=\"dataframe\">\n",
       "  <thead>\n",
       "    <tr style=\"text-align: right;\">\n",
       "      <th></th>\n",
       "      <th>No</th>\n",
       "      <th>Yes</th>\n",
       "    </tr>\n",
       "  </thead>\n",
       "  <tbody>\n",
       "    <tr>\n",
       "      <th>0</th>\n",
       "      <td>1</td>\n",
       "      <td>0</td>\n",
       "    </tr>\n",
       "    <tr>\n",
       "      <th>1</th>\n",
       "      <td>0</td>\n",
       "      <td>1</td>\n",
       "    </tr>\n",
       "  </tbody>\n",
       "</table>\n",
       "</div>"
      ],
      "text/plain": [
       "   No  Yes\n",
       "0   1    0\n",
       "1   0    1"
      ]
     },
     "execution_count": 51,
     "metadata": {},
     "output_type": "execute_result"
    }
   ],
   "source": [
    "pd.get_dummies(a[['binary']].stack()).sum(level=0)"
   ]
  },
  {
   "cell_type": "code",
   "execution_count": 58,
   "metadata": {
    "collapsed": false
   },
   "outputs": [
    {
     "data": {
      "text/plain": [
       "pandas.core.frame.DataFrame"
      ]
     },
     "execution_count": 58,
     "metadata": {},
     "output_type": "execute_result"
    }
   ],
   "source": [
    "type(a[['binary','binary']])"
   ]
  },
  {
   "cell_type": "code",
   "execution_count": 4,
   "metadata": {
    "collapsed": false,
    "scrolled": true
   },
   "outputs": [
    {
     "data": {
      "text/html": [
       "<div>\n",
       "<table border=\"1\" class=\"dataframe\">\n",
       "  <thead>\n",
       "    <tr style=\"text-align: right;\">\n",
       "      <th></th>\n",
       "      <th>magic</th>\n",
       "      <th>qty1</th>\n",
       "      <th>qty2</th>\n",
       "      <th>testCol</th>\n",
       "      <th>val1</th>\n",
       "      <th>val2</th>\n",
       "      <th>magic</th>\n",
       "    </tr>\n",
       "  </thead>\n",
       "  <tbody>\n",
       "    <tr>\n",
       "      <th>0</th>\n",
       "      <td>No</td>\n",
       "      <td>1</td>\n",
       "      <td>NaN</td>\n",
       "      <td>a</td>\n",
       "      <td>3</td>\n",
       "      <td>2</td>\n",
       "      <td>No</td>\n",
       "    </tr>\n",
       "    <tr>\n",
       "      <th>1</th>\n",
       "      <td>Yes</td>\n",
       "      <td>0</td>\n",
       "      <td>4</td>\n",
       "      <td>b</td>\n",
       "      <td>3</td>\n",
       "      <td>2</td>\n",
       "      <td>Yes</td>\n",
       "    </tr>\n",
       "    <tr>\n",
       "      <th>2</th>\n",
       "      <td>NaN</td>\n",
       "      <td>2</td>\n",
       "      <td>1</td>\n",
       "      <td>c</td>\n",
       "      <td>3</td>\n",
       "      <td>2</td>\n",
       "      <td>NaN</td>\n",
       "    </tr>\n",
       "  </tbody>\n",
       "</table>\n",
       "</div>"
      ],
      "text/plain": [
       "  magic  qty1  qty2 testCol  val1  val2 magic\n",
       "0    No     1   NaN       a     3     2    No\n",
       "1   Yes     0     4       b     3     2   Yes\n",
       "2   NaN     2     1       c     3     2   NaN"
      ]
     },
     "execution_count": 4,
     "metadata": {},
     "output_type": "execute_result"
    }
   ],
   "source": [
    "a.rename_axis({'binary':'magic', 'binary2':'magic', 0:'zero'},inplace=True,axis=1)\n",
    "a"
   ]
  },
  {
   "cell_type": "code",
   "execution_count": 15,
   "metadata": {
    "collapsed": false,
    "scrolled": true
   },
   "outputs": [
    {
     "data": {
      "text/html": [
       "<div>\n",
       "<table border=\"1\" class=\"dataframe\">\n",
       "  <thead>\n",
       "    <tr style=\"text-align: right;\">\n",
       "      <th></th>\n",
       "      <th>No</th>\n",
       "      <th>Yes</th>\n",
       "    </tr>\n",
       "  </thead>\n",
       "  <tbody>\n",
       "    <tr>\n",
       "      <th>0</th>\n",
       "      <td>2</td>\n",
       "      <td>0</td>\n",
       "    </tr>\n",
       "    <tr>\n",
       "      <th>1</th>\n",
       "      <td>0</td>\n",
       "      <td>2</td>\n",
       "    </tr>\n",
       "  </tbody>\n",
       "</table>\n",
       "</div>"
      ],
      "text/plain": [
       "   No  Yes\n",
       "0   2    0\n",
       "1   0    2"
      ]
     },
     "execution_count": 15,
     "metadata": {},
     "output_type": "execute_result"
    }
   ],
   "source": [
    "b = pd.get_dummies(a['magic'].stack()).reset_index(level=1)\n",
    "b.groupby(b.index).sum()"
   ]
  },
  {
   "cell_type": "code",
   "execution_count": 9,
   "metadata": {
    "collapsed": false
   },
   "outputs": [
    {
     "ename": "NameError",
     "evalue": "name 'x' is not defined",
     "output_type": "error",
     "traceback": [
      "\u001b[1;31m---------------------------------------------------------------------------\u001b[0m",
      "\u001b[1;31mNameError\u001b[0m                                 Traceback (most recent call last)",
      "\u001b[1;32m<ipython-input-9-ceade6ba678c>\u001b[0m in \u001b[0;36m<module>\u001b[1;34m()\u001b[0m\n\u001b[1;32m----> 1\u001b[1;33m \u001b[0ma\u001b[0m\u001b[1;33m[\u001b[0m\u001b[1;34m't1'\u001b[0m\u001b[1;33m]\u001b[0m\u001b[1;33m,\u001b[0m\u001b[0ma\u001b[0m\u001b[1;33m[\u001b[0m\u001b[1;34m't2'\u001b[0m\u001b[1;33m]\u001b[0m \u001b[1;33m=\u001b[0m \u001b[0ma\u001b[0m\u001b[1;33m.\u001b[0m\u001b[0mval1\u001b[0m\u001b[1;33m.\u001b[0m\u001b[0mapply\u001b[0m\u001b[1;33m(\u001b[0m\u001b[1;32mlambda\u001b[0m \u001b[0mx\u001b[0m\u001b[1;33m:\u001b[0m \u001b[0mx\u001b[0m\u001b[1;33m+\u001b[0m\u001b[1;36m1\u001b[0m\u001b[1;33m,\u001b[0m\u001b[0mx\u001b[0m\u001b[1;33m+\u001b[0m\u001b[1;36m2\u001b[0m\u001b[1;33m)\u001b[0m\u001b[1;33m\u001b[0m\u001b[0m\n\u001b[0m\u001b[0;32m      2\u001b[0m \u001b[0ma\u001b[0m\u001b[1;33m\u001b[0m\u001b[0m\n",
      "\u001b[1;31mNameError\u001b[0m: name 'x' is not defined"
     ]
    }
   ],
   "source": [
    "a['t1'],a['t2'] = a.val1.apply(lambda x: x+1,x+2)\n",
    "a"
   ]
  },
  {
   "cell_type": "code",
   "execution_count": 6,
   "metadata": {
    "collapsed": false
   },
   "outputs": [
    {
     "data": {
      "text/html": [
       "<div>\n",
       "<table border=\"1\" class=\"dataframe\">\n",
       "  <thead>\n",
       "    <tr style=\"text-align: right;\">\n",
       "      <th></th>\n",
       "      <th>binary</th>\n",
       "      <th>qty1</th>\n",
       "      <th>qty2</th>\n",
       "      <th>testCol</th>\n",
       "      <th>val1</th>\n",
       "      <th>val2</th>\n",
       "    </tr>\n",
       "  </thead>\n",
       "  <tbody>\n",
       "    <tr>\n",
       "      <th>0</th>\n",
       "      <td>No</td>\n",
       "      <td>4</td>\n",
       "      <td>NaN</td>\n",
       "      <td>a</td>\n",
       "      <td>3</td>\n",
       "      <td>2</td>\n",
       "    </tr>\n",
       "    <tr>\n",
       "      <th>1</th>\n",
       "      <td>Yes</td>\n",
       "      <td>3</td>\n",
       "      <td>4</td>\n",
       "      <td>b</td>\n",
       "      <td>3</td>\n",
       "      <td>2</td>\n",
       "    </tr>\n",
       "    <tr>\n",
       "      <th>2</th>\n",
       "      <td>NaN</td>\n",
       "      <td>5</td>\n",
       "      <td>1</td>\n",
       "      <td>c</td>\n",
       "      <td>3</td>\n",
       "      <td>2</td>\n",
       "    </tr>\n",
       "  </tbody>\n",
       "</table>\n",
       "</div>"
      ],
      "text/plain": [
       "  binary  qty1  qty2 testCol  val1  val2\n",
       "0     No     4   NaN       a     3     2\n",
       "1    Yes     3     4       b     3     2\n",
       "2    NaN     5     1       c     3     2"
      ]
     },
     "execution_count": 6,
     "metadata": {},
     "output_type": "execute_result"
    }
   ],
   "source": [
    "a.qty1 += a.val1\n",
    "a"
   ]
  },
  {
   "cell_type": "code",
   "execution_count": 29,
   "metadata": {
    "collapsed": false
   },
   "outputs": [
    {
     "data": {
      "text/html": [
       "<div>\n",
       "<table border=\"1\" class=\"dataframe\">\n",
       "  <thead>\n",
       "    <tr style=\"text-align: right;\">\n",
       "      <th></th>\n",
       "      <th>binary</th>\n",
       "      <th>qty1</th>\n",
       "      <th>qty2</th>\n",
       "      <th>testCol</th>\n",
       "      <th>val1</th>\n",
       "      <th>val2</th>\n",
       "    </tr>\n",
       "  </thead>\n",
       "  <tbody>\n",
       "    <tr>\n",
       "      <th>0</th>\n",
       "      <td>NaN</td>\n",
       "      <td>1</td>\n",
       "      <td>NaN</td>\n",
       "      <td>a</td>\n",
       "      <td>3</td>\n",
       "      <td>2</td>\n",
       "    </tr>\n",
       "    <tr>\n",
       "      <th>1</th>\n",
       "      <td>Yes</td>\n",
       "      <td>0</td>\n",
       "      <td>4</td>\n",
       "      <td>b</td>\n",
       "      <td>3</td>\n",
       "      <td>2</td>\n",
       "    </tr>\n",
       "    <tr>\n",
       "      <th>2</th>\n",
       "      <td>NaN</td>\n",
       "      <td>2</td>\n",
       "      <td>1</td>\n",
       "      <td>c</td>\n",
       "      <td>3</td>\n",
       "      <td>2</td>\n",
       "    </tr>\n",
       "  </tbody>\n",
       "</table>\n",
       "</div>"
      ],
      "text/plain": [
       "  binary  qty1  qty2 testCol  val1  val2\n",
       "0    NaN     1   NaN       a     3     2\n",
       "1    Yes     0     4       b     3     2\n",
       "2    NaN     2     1       c     3     2"
      ]
     },
     "execution_count": 29,
     "metadata": {},
     "output_type": "execute_result"
    }
   ],
   "source": [
    "a['binary'] = a['binary'].apply(lambda x: x if str(x) in 'Yes' else np.nan)\n",
    "a"
   ]
  },
  {
   "cell_type": "code",
   "execution_count": 30,
   "metadata": {
    "collapsed": true
   },
   "outputs": [],
   "source": [
    "a_dummies = pd.get_dummies(a.binary)\n",
    "a[['binary_'+col for col in a_dummies.columns]] = a_dummies "
   ]
  },
  {
   "cell_type": "code",
   "execution_count": 16,
   "metadata": {
    "collapsed": false
   },
   "outputs": [],
   "source": [
    "def add_dummies(df,colname):\n",
    "    col_dummies = pd.get_dummies(df[colname])\n",
    "    df[[colname+'_'+ col for col in col_dummies.columns]] = col_dummies"
   ]
  },
  {
   "cell_type": "code",
   "execution_count": 31,
   "metadata": {
    "collapsed": false
   },
   "outputs": [
    {
     "data": {
      "text/html": [
       "<div>\n",
       "<table border=\"1\" class=\"dataframe\">\n",
       "  <thead>\n",
       "    <tr style=\"text-align: right;\">\n",
       "      <th></th>\n",
       "      <th>binary</th>\n",
       "      <th>qty1</th>\n",
       "      <th>qty2</th>\n",
       "      <th>testCol</th>\n",
       "      <th>val1</th>\n",
       "      <th>val2</th>\n",
       "      <th>binary_Yes</th>\n",
       "    </tr>\n",
       "  </thead>\n",
       "  <tbody>\n",
       "    <tr>\n",
       "      <th>0</th>\n",
       "      <td>NaN</td>\n",
       "      <td>1</td>\n",
       "      <td>NaN</td>\n",
       "      <td>a</td>\n",
       "      <td>3</td>\n",
       "      <td>2</td>\n",
       "      <td>0</td>\n",
       "    </tr>\n",
       "    <tr>\n",
       "      <th>1</th>\n",
       "      <td>Yes</td>\n",
       "      <td>0</td>\n",
       "      <td>4</td>\n",
       "      <td>b</td>\n",
       "      <td>3</td>\n",
       "      <td>2</td>\n",
       "      <td>1</td>\n",
       "    </tr>\n",
       "    <tr>\n",
       "      <th>2</th>\n",
       "      <td>NaN</td>\n",
       "      <td>2</td>\n",
       "      <td>1</td>\n",
       "      <td>c</td>\n",
       "      <td>3</td>\n",
       "      <td>2</td>\n",
       "      <td>0</td>\n",
       "    </tr>\n",
       "  </tbody>\n",
       "</table>\n",
       "</div>"
      ],
      "text/plain": [
       "  binary  qty1  qty2 testCol  val1  val2  binary_Yes\n",
       "0    NaN     1   NaN       a     3     2           0\n",
       "1    Yes     0     4       b     3     2           1\n",
       "2    NaN     2     1       c     3     2           0"
      ]
     },
     "execution_count": 31,
     "metadata": {},
     "output_type": "execute_result"
    }
   ],
   "source": [
    "add_dummies(a,'binary')\n",
    "a"
   ]
  },
  {
   "cell_type": "code",
   "execution_count": 38,
   "metadata": {
    "collapsed": false
   },
   "outputs": [
    {
     "data": {
      "text/html": [
       "<div>\n",
       "<table border=\"1\" class=\"dataframe\">\n",
       "  <thead>\n",
       "    <tr style=\"text-align: right;\">\n",
       "      <th></th>\n",
       "      <th>binary</th>\n",
       "      <th>qty1</th>\n",
       "      <th>qty2</th>\n",
       "      <th>testCol</th>\n",
       "      <th>val1</th>\n",
       "      <th>val2</th>\n",
       "    </tr>\n",
       "  </thead>\n",
       "  <tbody>\n",
       "    <tr>\n",
       "      <th>0</th>\n",
       "      <td>0</td>\n",
       "      <td>1</td>\n",
       "      <td>NaN</td>\n",
       "      <td>a</td>\n",
       "      <td>3</td>\n",
       "      <td>2</td>\n",
       "    </tr>\n",
       "    <tr>\n",
       "      <th>1</th>\n",
       "      <td>1</td>\n",
       "      <td>0</td>\n",
       "      <td>4</td>\n",
       "      <td>b</td>\n",
       "      <td>3</td>\n",
       "      <td>2</td>\n",
       "    </tr>\n",
       "    <tr>\n",
       "      <th>2</th>\n",
       "      <td>0</td>\n",
       "      <td>2</td>\n",
       "      <td>1</td>\n",
       "      <td>c</td>\n",
       "      <td>3</td>\n",
       "      <td>2</td>\n",
       "    </tr>\n",
       "  </tbody>\n",
       "</table>\n",
       "</div>"
      ],
      "text/plain": [
       "  binary  qty1  qty2 testCol  val1  val2\n",
       "0      0     1   NaN       a     3     2\n",
       "1      1     0     4       b     3     2\n",
       "2      0     2     1       c     3     2"
      ]
     },
     "execution_count": 38,
     "metadata": {},
     "output_type": "execute_result"
    }
   ],
   "source": [
    "a.loc[a.binary == 'Yes','binary'] = 1\n",
    "a.loc[a.binary <> 1,'binary'] = 0\n",
    "a"
   ]
  },
  {
   "cell_type": "code",
   "execution_count": 25,
   "metadata": {
    "collapsed": false
   },
   "outputs": [],
   "source": [
    "a['sumproduct'] = sum([a['qty'+str(i)].fillna(0)*a['val'+str(i)] for i in range(1,3)])"
   ]
  },
  {
   "cell_type": "code",
   "execution_count": 29,
   "metadata": {
    "collapsed": false
   },
   "outputs": [
    {
     "data": {
      "text/html": [
       "<div>\n",
       "<table border=\"1\" class=\"dataframe\">\n",
       "  <thead>\n",
       "    <tr style=\"text-align: right;\">\n",
       "      <th></th>\n",
       "      <th>qty1</th>\n",
       "      <th>qty2</th>\n",
       "      <th>testCol</th>\n",
       "      <th>val1</th>\n",
       "      <th>val2</th>\n",
       "      <th>sumproduct</th>\n",
       "      <th>test</th>\n",
       "    </tr>\n",
       "  </thead>\n",
       "  <tbody>\n",
       "    <tr>\n",
       "      <th>0</th>\n",
       "      <td>1</td>\n",
       "      <td>NaN</td>\n",
       "      <td>a</td>\n",
       "      <td>3</td>\n",
       "      <td>2</td>\n",
       "      <td>3</td>\n",
       "      <td>NaN</td>\n",
       "    </tr>\n",
       "    <tr>\n",
       "      <th>1</th>\n",
       "      <td>0</td>\n",
       "      <td>4</td>\n",
       "      <td>b</td>\n",
       "      <td>3</td>\n",
       "      <td>2</td>\n",
       "      <td>8</td>\n",
       "      <td>NaN</td>\n",
       "    </tr>\n",
       "    <tr>\n",
       "      <th>2</th>\n",
       "      <td>2</td>\n",
       "      <td>1</td>\n",
       "      <td>c</td>\n",
       "      <td>3</td>\n",
       "      <td>2</td>\n",
       "      <td>8</td>\n",
       "      <td>NaN</td>\n",
       "    </tr>\n",
       "  </tbody>\n",
       "</table>\n",
       "</div>"
      ],
      "text/plain": [
       "   qty1  qty2 testCol  val1  val2  sumproduct  test\n",
       "0     1   NaN       a     3     2           3   NaN\n",
       "1     0     4       b     3     2           8   NaN\n",
       "2     2     1       c     3     2           8   NaN"
      ]
     },
     "execution_count": 29,
     "metadata": {},
     "output_type": "execute_result"
    }
   ],
   "source": [
    "b "
   ]
  },
  {
   "cell_type": "code",
   "execution_count": 28,
   "metadata": {
    "collapsed": false
   },
   "outputs": [
    {
     "data": {
      "text/html": [
       "<div>\n",
       "<table border=\"1\" class=\"dataframe\">\n",
       "  <thead>\n",
       "    <tr style=\"text-align: right;\">\n",
       "      <th></th>\n",
       "      <th>qty1</th>\n",
       "      <th>qty2</th>\n",
       "      <th>testCol</th>\n",
       "      <th>val1</th>\n",
       "      <th>val2</th>\n",
       "      <th>sumproduct</th>\n",
       "      <th>test</th>\n",
       "    </tr>\n",
       "  </thead>\n",
       "  <tbody>\n",
       "    <tr>\n",
       "      <th>0</th>\n",
       "      <td>1</td>\n",
       "      <td>0</td>\n",
       "      <td>a</td>\n",
       "      <td>3</td>\n",
       "      <td>2</td>\n",
       "      <td>3</td>\n",
       "      <td>inf</td>\n",
       "    </tr>\n",
       "    <tr>\n",
       "      <th>1</th>\n",
       "      <td>0</td>\n",
       "      <td>4</td>\n",
       "      <td>b</td>\n",
       "      <td>3</td>\n",
       "      <td>2</td>\n",
       "      <td>8</td>\n",
       "      <td>0.000000</td>\n",
       "    </tr>\n",
       "    <tr>\n",
       "      <th>2</th>\n",
       "      <td>2</td>\n",
       "      <td>1</td>\n",
       "      <td>c</td>\n",
       "      <td>3</td>\n",
       "      <td>2</td>\n",
       "      <td>8</td>\n",
       "      <td>inf</td>\n",
       "    </tr>\n",
       "  </tbody>\n",
       "</table>\n",
       "</div>"
      ],
      "text/plain": [
       "   qty1  qty2 testCol  val1  val2  sumproduct      test\n",
       "0     1     0       a     3     2           3       inf\n",
       "1     0     4       b     3     2           8  0.000000\n",
       "2     2     1       c     3     2           8       inf"
      ]
     },
     "execution_count": 28,
     "metadata": {},
     "output_type": "execute_result"
    }
   ],
   "source": []
  },
  {
   "cell_type": "code",
   "execution_count": 13,
   "metadata": {
    "collapsed": true
   },
   "outputs": [],
   "source": [
    "a= ['asdf','asdf']\n",
    "a.append('test')"
   ]
  },
  {
   "cell_type": "code",
   "execution_count": 14,
   "metadata": {
    "collapsed": false
   },
   "outputs": [
    {
     "data": {
      "text/plain": [
       "['asdf', 'asdf', 'test']"
      ]
     },
     "execution_count": 14,
     "metadata": {},
     "output_type": "execute_result"
    }
   ],
   "source": [
    "a"
   ]
  },
  {
   "cell_type": "code",
   "execution_count": 3,
   "metadata": {
    "collapsed": false
   },
   "outputs": [],
   "source": [
    "b = pd.DataFrame({'testCol':[1,2,3],'val1':[3,3,3],'qty1':[1,0,2],'val2':[2,2,2],'qty2':[np.nan,4,1],\n",
    "                 'binary':['No','Yes',np.nan],'date':['02122011', '02122014', '31032011']})"
   ]
  },
  {
   "cell_type": "code",
   "execution_count": 4,
   "metadata": {
    "collapsed": false
   },
   "outputs": [
    {
     "data": {
      "text/html": [
       "<div>\n",
       "<table border=\"1\" class=\"dataframe\">\n",
       "  <thead>\n",
       "    <tr style=\"text-align: right;\">\n",
       "      <th></th>\n",
       "      <th>binary</th>\n",
       "      <th>date</th>\n",
       "      <th>qty1</th>\n",
       "      <th>qty2</th>\n",
       "      <th>testCol</th>\n",
       "      <th>val1</th>\n",
       "      <th>val2</th>\n",
       "    </tr>\n",
       "  </thead>\n",
       "  <tbody>\n",
       "    <tr>\n",
       "      <th>0</th>\n",
       "      <td>No</td>\n",
       "      <td>02122011</td>\n",
       "      <td>1</td>\n",
       "      <td>NaN</td>\n",
       "      <td>1</td>\n",
       "      <td>3</td>\n",
       "      <td>2</td>\n",
       "    </tr>\n",
       "    <tr>\n",
       "      <th>1</th>\n",
       "      <td>Yes</td>\n",
       "      <td>02122014</td>\n",
       "      <td>0</td>\n",
       "      <td>4</td>\n",
       "      <td>2</td>\n",
       "      <td>3</td>\n",
       "      <td>2</td>\n",
       "    </tr>\n",
       "    <tr>\n",
       "      <th>2</th>\n",
       "      <td>NaN</td>\n",
       "      <td>31032011</td>\n",
       "      <td>2</td>\n",
       "      <td>1</td>\n",
       "      <td>3</td>\n",
       "      <td>3</td>\n",
       "      <td>2</td>\n",
       "    </tr>\n",
       "  </tbody>\n",
       "</table>\n",
       "</div>"
      ],
      "text/plain": [
       "  binary      date  qty1  qty2  testCol  val1  val2\n",
       "0     No  02122011     1   NaN        1     3     2\n",
       "1    Yes  02122014     0     4        2     3     2\n",
       "2    NaN  31032011     2     1        3     3     2"
      ]
     },
     "execution_count": 4,
     "metadata": {},
     "output_type": "execute_result"
    }
   ],
   "source": [
    "b"
   ]
  },
  {
   "cell_type": "code",
   "execution_count": 6,
   "metadata": {
    "collapsed": false
   },
   "outputs": [
    {
     "data": {
      "text/plain": [
       "0    NANANA\n",
       "1         0\n",
       "2         2\n",
       "Name: qty1, dtype: object"
      ]
     },
     "execution_count": 6,
     "metadata": {},
     "output_type": "execute_result"
    }
   ],
   "source": [
    "b.qty1.replace({1:'NANANA'})"
   ]
  },
  {
   "cell_type": "code",
   "execution_count": 74,
   "metadata": {
    "collapsed": false
   },
   "outputs": [
    {
     "ename": "AttributeError",
     "evalue": "'DataFrame' object has no attribute 'agg'",
     "output_type": "error",
     "traceback": [
      "\u001b[1;31m---------------------------------------------------------------------------\u001b[0m",
      "\u001b[1;31mAttributeError\u001b[0m                            Traceback (most recent call last)",
      "\u001b[1;32m<ipython-input-74-d183de544a3f>\u001b[0m in \u001b[0;36m<module>\u001b[1;34m()\u001b[0m\n\u001b[1;32m----> 1\u001b[1;33m \u001b[1;32mprint\u001b[0m\u001b[1;33m(\u001b[0m\u001b[0mb\u001b[0m\u001b[1;33m.\u001b[0m\u001b[0magg\u001b[0m\u001b[1;33m(\u001b[0m\u001b[1;33m[\u001b[0m\u001b[0mnp\u001b[0m\u001b[1;33m.\u001b[0m\u001b[0mmax\u001b[0m\u001b[1;33m,\u001b[0m\u001b[0mnp\u001b[0m\u001b[1;33m.\u001b[0m\u001b[0mmin\u001b[0m\u001b[1;33m,\u001b[0m\u001b[0mnp\u001b[0m\u001b[1;33m.\u001b[0m\u001b[0mmean\u001b[0m\u001b[1;33m,\u001b[0m\u001b[0mnp\u001b[0m\u001b[1;33m.\u001b[0m\u001b[0msum\u001b[0m\u001b[1;33m]\u001b[0m\u001b[1;33m)\u001b[0m\u001b[1;33m)\u001b[0m\u001b[1;33m\u001b[0m\u001b[0m\n\u001b[0m\u001b[0;32m      2\u001b[0m \u001b[1;31m#print(b.iloc[:,2:].sum(axis=1))\u001b[0m\u001b[1;33m\u001b[0m\u001b[1;33m\u001b[0m\u001b[0m\n\u001b[0;32m      3\u001b[0m \u001b[1;31m#print(b.iloc[:,2:].min(axis=1))\u001b[0m\u001b[1;33m\u001b[0m\u001b[1;33m\u001b[0m\u001b[0m\n\u001b[0;32m      4\u001b[0m \u001b[1;31m#print(b.iloc[:,2:].mean(axis=1))\u001b[0m\u001b[1;33m\u001b[0m\u001b[1;33m\u001b[0m\u001b[0m\n",
      "\u001b[1;32mC:\\Python27\\lib\\site-packages\\pandas\\core\\generic.pyc\u001b[0m in \u001b[0;36m__getattr__\u001b[1;34m(self, name)\u001b[0m\n\u001b[0;32m   2148\u001b[0m                 \u001b[1;32mreturn\u001b[0m \u001b[0mself\u001b[0m\u001b[1;33m[\u001b[0m\u001b[0mname\u001b[0m\u001b[1;33m]\u001b[0m\u001b[1;33m\u001b[0m\u001b[0m\n\u001b[0;32m   2149\u001b[0m             raise AttributeError(\"'%s' object has no attribute '%s'\" %\n\u001b[1;32m-> 2150\u001b[1;33m                                  (type(self).__name__, name))\n\u001b[0m\u001b[0;32m   2151\u001b[0m \u001b[1;33m\u001b[0m\u001b[0m\n\u001b[0;32m   2152\u001b[0m     \u001b[1;32mdef\u001b[0m \u001b[0m__setattr__\u001b[0m\u001b[1;33m(\u001b[0m\u001b[0mself\u001b[0m\u001b[1;33m,\u001b[0m \u001b[0mname\u001b[0m\u001b[1;33m,\u001b[0m \u001b[0mvalue\u001b[0m\u001b[1;33m)\u001b[0m\u001b[1;33m:\u001b[0m\u001b[1;33m\u001b[0m\u001b[0m\n",
      "\u001b[1;31mAttributeError\u001b[0m: 'DataFrame' object has no attribute 'agg'"
     ]
    }
   ],
   "source": [
    "print(b.agg([np.max,np.min,np.mean,np.sum]))\n",
    "#print(b.iloc[:,2:].sum(axis=1))\n",
    "#print(b.iloc[:,2:].min(axis=1))\n",
    "#print(b.iloc[:,2:].mean(axis=1))"
   ]
  },
  {
   "cell_type": "code",
   "execution_count": 66,
   "metadata": {
    "collapsed": false
   },
   "outputs": [
    {
     "data": {
      "text/html": [
       "<div>\n",
       "<table border=\"1\" class=\"dataframe\">\n",
       "  <thead>\n",
       "    <tr style=\"text-align: right;\">\n",
       "      <th></th>\n",
       "      <th>val1</th>\n",
       "      <th>val2</th>\n",
       "    </tr>\n",
       "  </thead>\n",
       "  <tbody>\n",
       "    <tr>\n",
       "      <th>0</th>\n",
       "      <td>27</td>\n",
       "      <td>12</td>\n",
       "    </tr>\n",
       "    <tr>\n",
       "      <th>1</th>\n",
       "      <td>27</td>\n",
       "      <td>12</td>\n",
       "    </tr>\n",
       "    <tr>\n",
       "      <th>2</th>\n",
       "      <td>27</td>\n",
       "      <td>12</td>\n",
       "    </tr>\n",
       "  </tbody>\n",
       "</table>\n",
       "</div>"
      ],
      "text/plain": [
       "   val1  val2\n",
       "0    27    12\n",
       "1    27    12\n",
       "2    27    12"
      ]
     },
     "execution_count": 66,
     "metadata": {},
     "output_type": "execute_result"
    }
   ],
   "source": [
    "b[['val1','val2']] * b.sum()[['val1','val2']]"
   ]
  },
  {
   "cell_type": "code",
   "execution_count": 78,
   "metadata": {
    "collapsed": false
   },
   "outputs": [
    {
     "data": {
      "text/plain": [
       "['t', 'e', 's', 't', '_', 'a', 'l', 'i', 's', 't']"
      ]
     },
     "execution_count": 78,
     "metadata": {},
     "output_type": "execute_result"
    }
   ],
   "source": [
    "alist = []\n",
    "alist.extend('test_alist')\n",
    "alist"
   ]
  },
  {
   "cell_type": "code",
   "execution_count": null,
   "metadata": {
    "collapsed": true
   },
   "outputs": [],
   "source": []
  }
 ],
 "metadata": {
  "kernelspec": {
   "display_name": "Python 2",
   "language": "python",
   "name": "python2"
  },
  "language_info": {
   "codemirror_mode": {
    "name": "ipython",
    "version": 2
   },
   "file_extension": ".py",
   "mimetype": "text/x-python",
   "name": "python",
   "nbconvert_exporter": "python",
   "pygments_lexer": "ipython2",
   "version": "2.7.10"
  }
 },
 "nbformat": 4,
 "nbformat_minor": 0
}
